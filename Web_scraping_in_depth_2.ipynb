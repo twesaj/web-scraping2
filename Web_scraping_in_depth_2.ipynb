{
  "nbformat": 4,
  "nbformat_minor": 0,
  "metadata": {
    "colab": {
      "name": "Web-scraping in depth 2",
      "provenance": [],
      "authorship_tag": "ABX9TyNqrPV4CJMBdUX8/RBM4k43",
      "include_colab_link": true
    },
    "kernelspec": {
      "name": "python3",
      "display_name": "Python 3"
    },
    "language_info": {
      "name": "python"
    }
  },
  "cells": [
    {
      "cell_type": "markdown",
      "metadata": {
        "id": "view-in-github",
        "colab_type": "text"
      },
      "source": [
        "<a href=\"https://colab.research.google.com/github/twesaj/web-scraping2/blob/main/Web_scraping_in_depth_2.ipynb\" target=\"_parent\"><img src=\"https://colab.research.google.com/assets/colab-badge.svg\" alt=\"Open In Colab\"/></a>"
      ]
    },
    {
      "cell_type": "markdown",
      "metadata": {
        "id": "5BmGPX1bJg9m"
      },
      "source": [
        ""
      ]
    },
    {
      "cell_type": "markdown",
      "metadata": {
        "id": "pryoKvc3Jh5T"
      },
      "source": [
        "# Twesa Mwaisemba\n",
        "# Assignmnent- Web scraping in depth\n",
        "# 4/4/2021\n",
        "# This script scrapes elements from multiple a bookstore webpage."
      ]
    },
    {
      "cell_type": "code",
      "metadata": {
        "colab": {
          "base_uri": "https://localhost:8080/",
          "height": 37
        },
        "id": "5Xq36QZA-Ue4",
        "outputId": "30a74f19-bf76-4b73-9226-3f85ec48f716"
      },
      "source": [
        "import requests\n",
        "import bs4\n",
        "base_url = \"http://books.toscrape.com/catalogue/page-{}.html\"\n",
        "base_url.format('25')"
      ],
      "execution_count": 39,
      "outputs": [
        {
          "output_type": "execute_result",
          "data": {
            "application/vnd.google.colaboratory.intrinsic+json": {
              "type": "string"
            },
            "text/plain": [
              "'http://books.toscrape.com/catalogue/page-25.html'"
            ]
          },
          "metadata": {
            "tags": []
          },
          "execution_count": 39
        }
      ]
    },
    {
      "cell_type": "code",
      "metadata": {
        "id": "fs9aMUxrGjrO",
        "colab": {
          "base_uri": "https://localhost:8080/"
        },
        "outputId": "e7ea7e22-b45f-4ec9-a0be-f018759daa17"
      },
      "source": [
        "# Make our request\n",
        "res = requests.get(base_url.format(1))\n",
        "# Create our soup\n",
        "soup = bs4.BeautifulSoup(res.text, 'lxml')\n",
        "soup.select(\".product_pod\")\n",
        "len(soup.select(\".product_pod\"))\n",
        "#Run this to get our pod.\n",
        "products = soup.select(\".product_pod\")\n",
        "example = products[0] # using a zero index to grab just the first one.\n",
        "print(example)\n",
        "'star-rating one' in str(example)\n",
        "example.select(\".star-rating.Three\")\n",
        "example.select(\".star-rating.One\")\n",
        "[] == example.select(\".star-rating.One\")\n",
        "example.select('a')"
      ],
      "execution_count": 40,
      "outputs": [
        {
          "output_type": "stream",
          "text": [
            "<article class=\"product_pod\">\n",
            "<div class=\"image_container\">\n",
            "<a href=\"a-light-in-the-attic_1000/index.html\"><img alt=\"A Light in the Attic\" class=\"thumbnail\" src=\"../media/cache/2c/da/2cdad67c44b002e7ead0cc35693c0e8b.jpg\"/></a>\n",
            "</div>\n",
            "<p class=\"star-rating Three\">\n",
            "<i class=\"icon-star\"></i>\n",
            "<i class=\"icon-star\"></i>\n",
            "<i class=\"icon-star\"></i>\n",
            "<i class=\"icon-star\"></i>\n",
            "<i class=\"icon-star\"></i>\n",
            "</p>\n",
            "<h3><a href=\"a-light-in-the-attic_1000/index.html\" title=\"A Light in the Attic\">A Light in the ...</a></h3>\n",
            "<div class=\"product_price\">\n",
            "<p class=\"price_color\">Â£51.77</p>\n",
            "<p class=\"instock availability\">\n",
            "<i class=\"icon-ok\"></i>\n",
            "    \n",
            "        In stock\n",
            "    \n",
            "</p>\n",
            "<form>\n",
            "<button class=\"btn btn-primary btn-block\" data-loading-text=\"Adding...\" type=\"submit\">Add to basket</button>\n",
            "</form>\n",
            "</div>\n",
            "</article>\n"
          ],
          "name": "stdout"
        },
        {
          "output_type": "execute_result",
          "data": {
            "text/plain": [
              "[<a href=\"a-light-in-the-attic_1000/index.html\"><img alt=\"A Light in the Attic\" class=\"thumbnail\" src=\"../media/cache/2c/da/2cdad67c44b002e7ead0cc35693c0e8b.jpg\"/></a>,\n",
              " <a href=\"a-light-in-the-attic_1000/index.html\" title=\"A Light in the Attic\">A Light in the ...</a>]"
            ]
          },
          "metadata": {
            "tags": []
          },
          "execution_count": 40
        }
      ]
    },
    {
      "cell_type": "code",
      "metadata": {
        "colab": {
          "base_uri": "https://localhost:8080/"
        },
        "id": "-6X24IPUDieU",
        "outputId": "456d8301-811f-48fb-a48e-fce565eda8a9"
      },
      "source": [
        "# start by initiating an empty list that will hold our output.\n",
        "one_star_titles = []\n",
        "\n",
        "# Now iterate to get info from each page.\n",
        "# We want to include page 5, so index should go up to, but not include 6,\n",
        "for n in range (1,6):\n",
        "  scrape_url = base_url.format(n)\n",
        "  res = requests.get(scrape_url)\n",
        "  soup = bs4.BeautifulSoup(res.text,'lxml')\n",
        "  books = soup.select(\".product_pod\")\n",
        "  # within our loop, we'll create another loop to parse the books and select star rating one.\n",
        "  for book in books:\n",
        "    if len(book.select('.star-rating.One')) != 0: # if the list is not empty, then we do have a one star book. Could also use if 'star-rating one' in str(book)\n",
        "      book_title = book.select('a')[1]['title']\n",
        "      one_star_titles.append(book_title)\n",
        "print(one_star_titles)"
      ],
      "execution_count": 41,
      "outputs": [
        {
          "output_type": "stream",
          "text": [
            "['Tipping the Velvet', 'Soumission', 'The Requiem Red', 'The Black Maria', 'Olio', 'Mesaerion: The Best Science Fiction Stories 1800-1849', 'In Her Wake', 'The Bear and the Piano', 'In a Dark, Dark Wood', 'When We Collided', 'Unbound: How Eight Technologies Made Us Human, Transformed Society, and Brought Our World to the Brink', 'Tsubasa: WoRLD CHRoNiCLE 2 (Tsubasa WoRLD CHRoNiCLE #2)', 'The Torch Is Passed: A Harding Family Story', 'The Secret of Dreadwillow Carse', 'The Pioneer Woman Cooks: Dinnertime: Comfort Classics, Freezer Food, 16-Minute Meals, and Other Delicious Ways to Solve Supper!', 'The Gutsy Girl: Escapades for Your Life of Epic Adventure', 'The Electric Pencil: Drawings from Inside State Hospital No. 3', 'The Age of Genius: The Seventeenth Century and the Birth of the Modern Mind', 'Pop Gun War, Volume 1: Gift', 'orange: The Complete Collection 1 (orange: The Complete Collection #1)', 'Online Marketing for Busy Authors: A Step-By-Step Guide', 'Layered: Baking, Building, and Styling Spectacular Cakes']\n"
          ],
          "name": "stdout"
        }
      ]
    }
  ]
}